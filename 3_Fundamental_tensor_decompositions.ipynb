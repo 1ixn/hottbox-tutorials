{
 "cells": [
  {
   "cell_type": "markdown",
   "metadata": {},
   "source": [
    "# Fundamental tensor decompositions.\n",
    "### Last modification (13.05.2018)\n",
    "\n",
    "\n",
    "In this tutorial we provide a theoretical backgound on the fundamental tensor\n",
    "decompositions of multidimensional arrays and show how these data algorithms\n",
    "can be used with [hottbox](https://github.com/hottbox/hottbox) through **CPD**, **HOSVD**, **HOOI** and **TTSVD** classes.\n",
    "\n",
    "More details on **CPD**, **HOSVD**, **HOOI** and **TTSVD** classes can be found on the [documentation page](https://hottbox.github.io/stable/api/hottbox.algorithms.decomposition).\n",
    "\n",
    "> **Note:** this tutorial assumes that you are familiar with the basics of \n",
    "tensor algebra, tensor representaitons in different forms and the corresponding conventional \n",
    "notation. If you are new to these topics, check out our previous tutorials:\n",
    "[tutorial_1](https://github.com/hottbox/hottbox-tutorials/blob/master/1_N-dimensional_arrays_and_Tensor_class.ipynb) and \n",
    "[tutorial_2](https://github.com/hottbox/hottbox-tutorials/blob/master/2_Efficient_representations_of_tensors.ipynb).\n",
    "\n",
    "**Requirements:** ``hottbox>=0.1.2``\n",
    "\n",
    "**Author:** Ilya Kisil - ilyakisil@gmail.com"
   ]
  },
  {
   "cell_type": "code",
   "execution_count": 1,
   "metadata": {},
   "outputs": [],
   "source": [
    "import numpy as np\n",
    "from hottbox.core import Tensor, residual_tensor\n",
    "from hottbox.algorithms.decomposition import TTSVD, HOSVD, HOOI, CPD\n",
    "from hottbox.metrics import residual_rel_error"
   ]
  },
  {
   "cell_type": "markdown",
   "metadata": {},
   "source": [
    "## Fundamental tensor decompositions and their implementation\n",
    "\n",
    "The following algorithms have been implemented in **``hottbox>=0.1.2``**:\n",
    "\n",
    "- CPD: produces instance of **TensorCPD** class\n",
    "- HOSVD: produces instance of **TensorTKD** class\n",
    "- HOOI: produces instance of **TensorTKD** class\n",
    "- TTSVD: produces instance of **TensorTT** class\n",
    "\n",
    "> **Note:** more background is comming soon"
   ]
  },
  {
   "cell_type": "code",
   "execution_count": 2,
   "metadata": {},
   "outputs": [],
   "source": [
    "np.random.seed(0)\n",
    "I, J, K = 5, 6, 7\n",
    "\n",
    "# array_3d = np.arange(I * J * K).reshape((I, J, K)).astype(np.float)\n",
    "array_3d = np.random.rand(I * J * K).reshape((I, J, K)).astype(np.float)\n",
    "\n",
    "tensor = Tensor(array_3d)"
   ]
  },
  {
   "cell_type": "markdown",
   "metadata": {},
   "source": [
    "## Canonical Polyadic Decomposition (CPD)"
   ]
  },
  {
   "cell_type": "code",
   "execution_count": 3,
   "metadata": {},
   "outputs": [
    {
     "data": {
      "text/plain": [
       "hottbox.core.structures.TensorCPD"
      ]
     },
     "execution_count": 3,
     "metadata": {},
     "output_type": "execute_result"
    }
   ],
   "source": [
    "cpd = CPD()\n",
    "kryskal_rank = (5,)\n",
    "\n",
    "tensor_cpd = cpd.decompose(tensor, kryskal_rank)\n",
    "type(tensor_cpd)"
   ]
  },
  {
   "cell_type": "markdown",
   "metadata": {},
   "source": [
    "## Tucker representation through Higher Order Sindular Value Decomposition (HOSVD)"
   ]
  },
  {
   "cell_type": "code",
   "execution_count": 4,
   "metadata": {},
   "outputs": [
    {
     "data": {
      "text/plain": [
       "hottbox.core.structures.TensorTKD"
      ]
     },
     "execution_count": 4,
     "metadata": {},
     "output_type": "execute_result"
    }
   ],
   "source": [
    "hosvd = HOSVD()\n",
    "ml_rank = (4,5,6)\n",
    "\n",
    "tensor_tkd_hosvd = hosvd.decompose(tensor, ml_rank)\n",
    "type(tensor_tkd_hosvd)"
   ]
  },
  {
   "cell_type": "markdown",
   "metadata": {},
   "source": [
    "## Tucker representation through Higher Order Orthogonal Iteration (HOOI)"
   ]
  },
  {
   "cell_type": "code",
   "execution_count": 5,
   "metadata": {},
   "outputs": [
    {
     "data": {
      "text/plain": [
       "hottbox.core.structures.TensorTKD"
      ]
     },
     "execution_count": 5,
     "metadata": {},
     "output_type": "execute_result"
    }
   ],
   "source": [
    "hooi = HOOI()\n",
    "ml_rank = (4,5,6)\n",
    "\n",
    "tensor_tkd_hooi = hosvd.decompose(tensor, ml_rank)\n",
    "type(tensor_tkd_hooi)"
   ]
  },
  {
   "cell_type": "markdown",
   "metadata": {},
   "source": [
    "## Tensor Train Decomposition via SVD"
   ]
  },
  {
   "cell_type": "code",
   "execution_count": 6,
   "metadata": {},
   "outputs": [
    {
     "data": {
      "text/plain": [
       "hottbox.core.structures.TensorTT"
      ]
     },
     "execution_count": 6,
     "metadata": {},
     "output_type": "execute_result"
    }
   ],
   "source": [
    "tt = TTSVD()\n",
    "tt_rank = (2,3)\n",
    "\n",
    "tensor_tt = tt.decompose(tensor, tt_rank)\n",
    "type(tensor_tt)"
   ]
  },
  {
   "cell_type": "markdown",
   "metadata": {},
   "source": [
    "## Evaluating results of tensor decompositions\n",
    "\n",
    "For each result of the tensor decomposition we can compute a residual tensor and calculate relative error of approximation:\n",
    "```python\n",
    "    tensor_res = residual_tensor(tensor, tensor_cpd)\n",
    "    rel_error = tensor_res.frob_norm / tensor.frob_norm        \n",
    "```\n",
    "Or can do it in one line:\n",
    "```python\n",
    "    rel_error = residual_rel_error(tensor, tensor_cpd)\n",
    "```\n",
    "\n"
   ]
  },
  {
   "cell_type": "code",
   "execution_count": 7,
   "metadata": {},
   "outputs": [
    {
     "name": "stdout",
     "output_type": "stream",
     "text": [
      "Residual tensor is instance of <class 'hottbox.core.structures.Tensor'>\n"
     ]
    }
   ],
   "source": [
    "tensor_cpd_res = residual_tensor(tensor, tensor_cpd)\n",
    "print('Residual tensor is instance of {}'.format(type(tensor_cpd_res)))"
   ]
  },
  {
   "cell_type": "code",
   "execution_count": 8,
   "metadata": {},
   "outputs": [
    {
     "name": "stdout",
     "output_type": "stream",
     "text": [
      "Relative error of CPD approximation = 0.31\n",
      "Relative error of CPD approximation = 0.31\n"
     ]
    }
   ],
   "source": [
    "rel_error = tensor_cpd_res.frob_norm / tensor.frob_norm \n",
    "print('Relative error of CPD approximation = {:.2f}'.format(rel_error))\n",
    "\n",
    "rel_error = residual_rel_error(tensor, tensor_cpd)\n",
    "print('Relative error of CPD approximation = {:.2f}'.format(rel_error))"
   ]
  },
  {
   "cell_type": "code",
   "execution_count": 9,
   "metadata": {},
   "outputs": [
    {
     "name": "stdout",
     "output_type": "stream",
     "text": [
      "Relative error of HOSVD approximation = 0.21\n"
     ]
    }
   ],
   "source": [
    "rel_error = residual_rel_error(tensor, tensor_tkd_hosvd)\n",
    "print('Relative error of HOSVD approximation = {:.2f}'.format(rel_error))"
   ]
  },
  {
   "cell_type": "code",
   "execution_count": 10,
   "metadata": {},
   "outputs": [
    {
     "name": "stdout",
     "output_type": "stream",
     "text": [
      "Relative error of HOOI approximation = 0.21\n"
     ]
    }
   ],
   "source": [
    "rel_error = residual_rel_error(tensor, tensor_tkd_hooi)\n",
    "print('Relative error of HOOI approximation = {:.2f}'.format(rel_error))"
   ]
  },
  {
   "cell_type": "code",
   "execution_count": 11,
   "metadata": {},
   "outputs": [
    {
     "name": "stdout",
     "output_type": "stream",
     "text": [
      "Relative error of TT approximation = 0.39\n"
     ]
    }
   ],
   "source": [
    "rel_error = residual_rel_error(tensor, tensor_tt)\n",
    "print('Relative error of TT approximation = {:.2f}'.format(rel_error))"
   ]
  }
 ],
 "metadata": {
  "kernelspec": {
   "display_name": "Python 3",
   "language": "python",
   "name": "python3"
  },
  "language_info": {
   "codemirror_mode": {
    "name": "ipython",
    "version": 3
   },
   "file_extension": ".py",
   "mimetype": "text/x-python",
   "name": "python",
   "nbconvert_exporter": "python",
   "pygments_lexer": "ipython3",
   "version": "3.6.2"
  }
 },
 "nbformat": 4,
 "nbformat_minor": 2
}
